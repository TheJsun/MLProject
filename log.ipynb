{
 "cells": [
  {
   "cell_type": "markdown",
   "metadata": {},
   "source": [
    "# Logs"
   ]
  },
  {
   "cell_type": "markdown",
   "metadata": {},
   "source": [
    "## Initialize logs (9/17/2024) \n",
    "\n",
    "Edited by Zhengrong Yan"
   ]
  },
  {
   "cell_type": "markdown",
   "metadata": {},
   "source": [
    "Hello this is something"
   ]
  },
  {
   "cell_type": "code",
   "execution_count": null,
   "metadata": {},
   "outputs": [],
   "source": [
    "print(\"initialize\")"
   ]
  },
  {
   "cell_type": "code",
   "execution_count": 3,
   "metadata": {},
   "outputs": [
    {
     "name": "stdout",
     "output_type": "stream",
     "text": [
      "Hello world ben\n"
     ]
    }
   ],
   "source": [
    "print(\"Hello world ben\")"
   ]
  },
  {
   "cell_type": "markdown",
   "metadata": {},
   "source": [
    "# Finalize the research question"
   ]
  },
  {
   "cell_type": "markdown",
   "metadata": {},
   "source": [
    "**Research Question:** Can we find a predictive relationship of house prices based on criminal offences and gambling?\n",
    "\n"
   ]
  },
  {
   "cell_type": "markdown",
   "metadata": {},
   "source": [
    "# Data need to use\n",
    "\n",
    "## csv column\n",
    "\n",
    "**For year 2019:**\n",
    "\n",
    "LGA, House price by LGA, [Crime divisions A, B,... rate], EGM\n",
    "\n",
    "## File need to be used\n",
    "\n",
    "- LGA Offences.xslx Table 2\n",
    "\n",
    "- Houses-by-suburb.csv [column 2019]\n",
    "\n",
    "- EGM.csv 2019\n",
    "\n",
    "- communities.csv (used to identify the LGA of suburb)"
   ]
  }
 ],
 "metadata": {
  "kernelspec": {
   "display_name": "Python 3",
   "language": "python",
   "name": "python3"
  },
  "language_info": {
   "name": "python",
   "version": "3.12.6"
  }
 },
 "nbformat": 4,
 "nbformat_minor": 2
}
