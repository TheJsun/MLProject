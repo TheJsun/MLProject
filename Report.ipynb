{
 "cells": [
  {
   "cell_type": "code",
   "execution_count": null,
   "metadata": {
    "vscode": {
     "languageId": "plaintext"
    }
   },
   "outputs": [],
   "source": [
    "# General structure of the report outline, where there are 5 marks allocated to Methods, 12 marks for Analysis of Data and Results\n",
    "# and 3 marks on quality structure\n",
    "# Once finished, fit this page into the report template format\n",
    "\n",
    "#General structure should include \"an executive summary, author information, table, captions and references\"."
   ]
  },
  {
   "cell_type": "markdown",
   "metadata": {},
   "source": [
    "## <center> **Title** <center>\n",
    "Include title here."
   ]
  },
  {
   "cell_type": "markdown",
   "metadata": {},
   "source": [
    "## <center> **Executive Summary** <center>\n",
    "Include executive summary (introduction) here."
   ]
  },
  {
   "cell_type": "markdown",
   "metadata": {},
   "source": [
    "## <center> **Method** <center>\n",
    "**The research question**: \n",
    "\n",
    "The research question we have decided for this project is, \"Can we find a predictive relationship of house prices based on criminal offences and gambling?\" With this research question, our project essentially contained two sub-explorations:\n",
    "1. The effect of crime rates on house prices. \n",
    "- In particular, we aimed to investigate if there was a notable correlation between house prices in each LGA and their corresponding offences rate, and, if applicable, a determination of a specific division of offences.\n",
    "2. The effect of EGM rates on house prices. \n",
    "- ...\n",
    "\n",
    "\n",
    "We initially suspect that...\n",
    "\n",
    "**Key variables**: \n",
    "- House prices (dependent variable)\n",
    "- criminal offences rates (independent variable)\n",
    "- EGM rates (independent variable).\n",
    "\n",
    "**Data pre-processing**: \n",
    "Data pre-processing techniques used in this project include dimension reduction, data wrangling,...\n",
    "\n",
    "- Manual Dimension reduction: \n",
    "    For the exploration of our research question, we did not require every data column in the datasets provided to us. As a way of reducing redundant and otherwise noisy data, we focused only on the data columns that would provide a meaningful contribution to our research question. In particular: \n",
    "    - For the Offences dataset, we only required Table 2 and the LGA name, year, the different divisions of offences, and offence rate. \n",
    "    - For the EGM dataset, we only required...\n",
    "    - For the House Prices dataset, we only required...\n",
    "\n",
    "\n",
    "- Data wrangling: \n",
    "    - One particular challenge we had to factor was finding a consistent way to represent the data across all three datasets. This was a problem because datasets like EGM and Offences presented data only in terms of LGA, whereas House Prices were presented only in Suburbs. Our solution to this problem was by way of data cleaning, which involved creating a new dataset \"Houses By LGA\" where suburbs were converted to their respective LGA from the communities dataset, thereby allowing a consistent way of comparing the relationship between all three datasets. \n",
    "    \n",
    "    - Additionally, we created a new measurement, \"weighted house prices\", which was derived from the house prices and population distribution columns in the raw datasets. This provided us a more accurate comparison of the house prices as house prices from LGA's with lower populations should not have an equal weight to those with higher populations. Thus, adjusting house prices based on population distribution was necessary to ensure that LGA's with larger populations have a proportionate impact.\n",
    "    \n",
    "    - Moreover, the presentation of LGA names in EGM was inconsistent with the other datasets as it included unnecessary prefixes for each LGA, which required further data cleaning processes of stripping away these prefixes.\n",
    "\n",
    "\n",
    "\n",
    "**Data analysis**:\n",
    "Data analysis methods: Statistical analysis, data visualisation, data interpretation.\n",
    "\n",
    "\n",
    "\n",
    "**Machine learning models**:\n",
    "The machine learning models we chose to use were K-means clustering (unsupervised), K nearest neighbour (supervised), Decision Tree classification (supervised).\n",
    "\n",
    "Reasoning:\n",
    "\n",
    "Explanation of process:\n",
    "\n"
   ]
  },
  {
   "cell_type": "markdown",
   "metadata": {},
   "source": [
    "## <center> **Analysis of Data and Results** <center>\n",
    "\n",
    "**Quality and variety of results**:\n",
    "\n",
    "**Interpretation**\n",
    "\n",
    "**Limitations**:"
   ]
  }
 ],
 "metadata": {
  "language_info": {
   "name": "python"
  }
 },
 "nbformat": 4,
 "nbformat_minor": 2
}
